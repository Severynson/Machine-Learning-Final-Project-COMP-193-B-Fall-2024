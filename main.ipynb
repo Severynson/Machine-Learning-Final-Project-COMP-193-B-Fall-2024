{
 "cells": [
  {
   "cell_type": "markdown",
   "metadata": {},
   "source": [
    "# Loading the libraries"
   ]
  },
  {
   "cell_type": "code",
   "execution_count": 1,
   "metadata": {},
   "outputs": [],
   "source": [
    "import pandas as pd\n",
    "from sklearn.ensemble import RandomForestClassifier"
   ]
  },
  {
   "cell_type": "markdown",
   "metadata": {},
   "source": [
    "# Loading the dataset"
   ]
  },
  {
   "cell_type": "code",
   "execution_count": 28,
   "metadata": {},
   "outputs": [],
   "source": [
    "data = pd.read_csv('EmployeeSurvey.csv')\n"
   ]
  },
  {
   "cell_type": "markdown",
   "metadata": {},
   "source": [
    "# Intitial exploration of the data"
   ]
  },
  {
   "cell_type": "code",
   "execution_count": 29,
   "metadata": {},
   "outputs": [
    {
     "name": "stdout",
     "output_type": "stream",
     "text": [
      "First 5 rows⬇️:\n",
      "\n",
      "   Emp ID  satisfaction_level  last_evaluation  number_project  \\\n",
      "0     1.0                0.38             0.53             2.0   \n",
      "1     2.0                0.80             0.86             5.0   \n",
      "2     3.0                0.11             0.88             7.0   \n",
      "3     4.0                0.72             0.87             5.0   \n",
      "4     5.0                0.37             0.52             2.0   \n",
      "\n",
      "   average_montly_hours  time_spend_company  Work_accident  \\\n",
      "0                 157.0                 3.0            0.0   \n",
      "1                 262.0                 6.0            0.0   \n",
      "2                 272.0                 4.0            0.0   \n",
      "3                 223.0                 5.0            0.0   \n",
      "4                 159.0                 3.0            0.0   \n",
      "\n",
      "   promotion_last_5years   dept  salary  \n",
      "0                    0.0  sales     low  \n",
      "1                    0.0  sales  medium  \n",
      "2                    0.0  sales  medium  \n",
      "3                    0.0  sales     low  \n",
      "4                    0.0  sales     low  \n",
      "\n",
      "Last 5 rows⬇️:\n",
      "\n",
      "        Emp ID  satisfaction_level  last_evaluation  number_project  \\\n",
      "15782  14995.0                0.40             0.57             2.0   \n",
      "15783  14996.0                0.37             0.48             2.0   \n",
      "15784  14997.0                0.37             0.53             2.0   \n",
      "15785  14998.0                0.11             0.96             6.0   \n",
      "15786  14999.0                0.37             0.52             2.0   \n",
      "\n",
      "       average_montly_hours  time_spend_company  Work_accident  \\\n",
      "15782                 151.0                 3.0            0.0   \n",
      "15783                 160.0                 3.0            0.0   \n",
      "15784                 143.0                 3.0            0.0   \n",
      "15785                 280.0                 4.0            0.0   \n",
      "15786                 158.0                 3.0            0.0   \n",
      "\n",
      "       promotion_last_5years     dept salary  \n",
      "15782                    0.0  support    low  \n",
      "15783                    0.0  support    low  \n",
      "15784                    0.0  support    low  \n",
      "15785                    0.0  support    low  \n",
      "15786                    0.0  support    low  \n",
      "\n",
      "General information about the dataset⬇️:\n",
      "\n",
      "<class 'pandas.core.frame.DataFrame'>\n",
      "RangeIndex: 15787 entries, 0 to 15786\n",
      "Data columns (total 10 columns):\n",
      " #   Column                 Non-Null Count  Dtype  \n",
      "---  ------                 --------------  -----  \n",
      " 0   Emp ID                 14999 non-null  float64\n",
      " 1   satisfaction_level     14999 non-null  float64\n",
      " 2   last_evaluation        14999 non-null  float64\n",
      " 3   number_project         14999 non-null  float64\n",
      " 4   average_montly_hours   14999 non-null  float64\n",
      " 5   time_spend_company     14999 non-null  float64\n",
      " 6   Work_accident          14999 non-null  float64\n",
      " 7   promotion_last_5years  14999 non-null  float64\n",
      " 8   dept                   14999 non-null  object \n",
      " 9   salary                 14999 non-null  object \n",
      "dtypes: float64(8), object(2)\n",
      "memory usage: 1.2+ MB\n",
      "None\n",
      "\n",
      "Rows with at least one null value:\n",
      "\n",
      "\n",
      "Rows with at least one null value: 788\n"
     ]
    }
   ],
   "source": [
    "print(\"First 5 rows⬇️:\\n\")\n",
    "print(data.head())\n",
    "print(\"\\nLast 5 rows⬇️:\\n\")\n",
    "print(data.tail())\n",
    "print(\"\\nGeneral information about the dataset⬇️:\\n\")\n",
    "print(data.info())\n",
    "print(f\"\\nRows with at least one null value: {data.isnull().any(axis=1).sum()}\")\n"
   ]
  },
  {
   "cell_type": "markdown",
   "metadata": {},
   "source": [
    "# Improving the quality of data\n",
    "###### Since there are not much null values in comparison to the general size of the dataset - the best solution for the precision of the future predictions will be simply from them."
   ]
  },
  {
   "cell_type": "code",
   "execution_count": 30,
   "metadata": {},
   "outputs": [
    {
     "name": "stdout",
     "output_type": "stream",
     "text": [
      "\n",
      "Rows with at least one null value: 0\n"
     ]
    }
   ],
   "source": [
    "data = data.dropna()\n",
    "print(f\"\\nRows with at least one null value: {data.isnull().any(axis=1).sum()}\")"
   ]
  },
  {
   "cell_type": "markdown",
   "metadata": {},
   "source": [
    "### I'm interested to explore just the sales department, as it is one of the most numerous in the dataset, and different professions usually have different career  patterns, what will decrease the predictions accuracy significantly."
   ]
  },
  {
   "cell_type": "code",
   "execution_count": null,
   "metadata": {},
   "outputs": [],
   "source": [
    "sales_data = data[data['dept'] == 'sales']"
   ]
  }
 ],
 "metadata": {
  "kernelspec": {
   "display_name": "base",
   "language": "python",
   "name": "python3"
  },
  "language_info": {
   "codemirror_mode": {
    "name": "ipython",
    "version": 3
   },
   "file_extension": ".py",
   "mimetype": "text/x-python",
   "name": "python",
   "nbconvert_exporter": "python",
   "pygments_lexer": "ipython3",
   "version": "3.12.4"
  }
 },
 "nbformat": 4,
 "nbformat_minor": 2
}
